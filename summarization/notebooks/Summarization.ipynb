{
 "cells": [
  {
   "cell_type": "code",
   "execution_count": null,
   "id": "4d984c3d-7996-4b6f-a200-ed3675e65880",
   "metadata": {
    "tags": []
   },
   "outputs": [],
   "source": [
    "!pip install langchain boto3\n",
    "!pip install transformers\n",
    "!pip install sentence_transformers"
   ]
  },
  {
   "cell_type": "code",
   "execution_count": null,
   "id": "e1f0fc4e-4a05-4ccf-81c6-02736822367e",
   "metadata": {
    "tags": []
   },
   "outputs": [],
   "source": [
    "pip install langchain==0.0.224"
   ]
  },
  {
   "cell_type": "code",
   "execution_count": null,
   "id": "92e8451b-7e59-4e50-b4b3-a85dc5387120",
   "metadata": {
    "tags": []
   },
   "outputs": [],
   "source": [
    "pip install boto3 --upgrade"
   ]
  },
  {
   "cell_type": "code",
   "execution_count": 1,
   "id": "06fc1f81-0556-4ab3-af81-88fdc18c3d80",
   "metadata": {
    "tags": []
   },
   "outputs": [],
   "source": [
    "import boto3\n",
    "from langchain.retrievers import AmazonKendraRetriever\n",
    "from typing import List\n",
    "from typing import Dict\n",
    "from langchain.chains import RetrievalQA\n",
    "from langchain.prompts import PromptTemplate\n",
    "from langchain import SagemakerEndpoint, LLMChain\n",
    "from langchain.llms.sagemaker_endpoint import LLMContentHandler\n",
    "from langchain.chains.question_answering import load_qa_chain\n",
    "import json\n",
    "\n",
    "from langchain.docstore.document import Document\n",
    "from langchain.memory import ConversationBufferWindowMemory\n",
    "from langchain.prompts import PromptTemplate\n",
    "from langchain.memory import ConversationBufferMemory"
   ]
  },
  {
   "cell_type": "code",
   "execution_count": 2,
   "id": "78ac741a-d89f-432d-be9e-2caca4bdc429",
   "metadata": {
    "tags": []
   },
   "outputs": [],
   "source": [
    "class ContentHandler(LLMContentHandler):\n",
    "    content_type = \"application/json\"\n",
    "    accepts = \"application/json\"\n",
    "\n",
    "    def transform_input(self, inputs: list[str], model_kwargs: Dict) -> bytes:\n",
    "        input_str = json.dumps({\"inputs\": inputs, **model_kwargs})\n",
    "        return input_str.encode(\"utf-8\")\n",
    "\n",
    "    def transform_output(self, output: bytes) -> List[List[float]]:\n",
    "        response_json = json.loads(output.read().decode(\"utf-8\"))\n",
    "#        return response_json[\"vectors\"]\n",
    "        return response_json[0][\"generated_text\"]\n",
    "\n",
    "\n",
    "\n",
    "content_handler = ContentHandler()\n"
   ]
  },
  {
   "cell_type": "code",
   "execution_count": 3,
   "id": "2bfee691-1a60-48f5-b657-dc26242315d3",
   "metadata": {
    "tags": []
   },
   "outputs": [],
   "source": [
    "from langchain import PromptTemplate, LLMChain\n",
    "from langchain.text_splitter import CharacterTextSplitter\n",
    "from langchain.chains.mapreduce import MapReduceChain\n",
    "from langchain.prompts import PromptTemplate\n",
    "from langchain.text_splitter import RecursiveCharacterTextSplitter\n",
    "\n",
    "\n",
    "llm2 = SagemakerEndpoint(\n",
    "endpoint_name=\"hf-llm-falcon-40b-instruct-bf16-2023-06-23-19-34-33-102\",\n",
    "#endpoint_name=\"hf-llm-falcon-7b-bf16-2023-06-24-20-08-14-262\",\n",
    "#endpoint_name=\"hf-llm-falcon-40b-bf16-2023-06-24-20-20-44-608\",\n",
    "model_kwargs={\n",
    "     \"parameters\" : {\"do_sample\": False,\n",
    "    \"top_p\": 0.9,\n",
    "    \"temperature\": 0.1,\n",
    "    \"max_new_tokens\": 200\n",
    "              }},\n",
    "region_name=\"us-east-1\",\n",
    "content_handler=content_handler\n",
    ")\n",
    "\n",
    "text_splitter = RecursiveCharacterTextSplitter(\n",
    "    # Set a really small chunk size, just to show.\n",
    "    chunk_size = 4000,\n",
    "    chunk_overlap  = 100,\n",
    "    length_function = len,\n",
    ")"
   ]
  },
  {
   "cell_type": "code",
   "execution_count": 4,
   "id": "f072c40c-2487-45ef-86a1-29cb102e6f89",
   "metadata": {
    "tags": []
   },
   "outputs": [],
   "source": [
    "with open(\"sotu2.txt\") as f:\n",
    "    state_of_the_union = f.read()\n",
    "\n",
    "docs = text_splitter.create_documents([state_of_the_union])\n",
    "#print(texts)"
   ]
  },
  {
   "cell_type": "code",
   "execution_count": 5,
   "id": "9c159019-2f02-4bec-8c2e-f2d21f3d044a",
   "metadata": {
    "tags": []
   },
   "outputs": [
    {
     "name": "stdout",
     "output_type": "stream",
     "text": [
      "page_content=\"REPORT ON THE STATE OF THE UNION DELIVERED TO A JOINT SESSION OF                    CONGRESS ON FEBRUARY 7, 2023--PM 1  The PRESIDING OFFICER laid before the Senate the following message from the President of the United States which was which was ordered to lie on the table:To the Congress of the United States:  Mr. Speaker. Madam Vice President. Our First Lady and Second Gentleman. Members of Congress and the Cabinet. Leaders of our military. Mr. Chief Justice, Associate Justices, and retired Justices of the Supreme Court. And you, my fellow Americans.  I start tonight by congratulating the members of the 118th Congress and the new Speaker of the House, Kevin McCarthy. Mr. Speaker, I look forward to working together.  I also want to congratulate the new leader of the House Democrats and the first Black House Minority Leader in history, Hakeem Jeffries.  Congratulations to the longest serving Senate leader in history, Mitch McConnell.  And congratulations to Chuck Schumer for another term as Senate Majority Leader, this time with an even bigger majority.  And I want to give special recognition to someone who I think will be considered the greatest Speaker in the history of this country, Nancy Pelosi.  The story of America is a story of progress and resilience. Of always moving forward. Of never giving up. A story that is unique among all nations.  We are the only country that has emerged from every crisis stronger than when we entered it. That is what we are doing again.  Two years ago, our economy was reeling. As I stand here tonight--we have created a record 12 million new jobs--more jobs created in 2 years than any President has ever created in 4 years.  Two years ago, COVID had shut down our businesses, closed our schools and robbed us of so much. Today, COVID no longer controls our lives.  And 2 years ago, our democracy faced its greatest threat since the civil War. Today--though bruised--our democracy remains unbowed and unbroken.  As we gather here tonight--we are writing the next chapter in the great American story--a story of progress and resilience. When world leaders ask me to define America-- I define our country in one word--Possibilities.  You know, we're often told that Democrats and Republicans can't work together. But over these past 2 years we proved the cynics and the naysayers wrong. Yes, we disagreed plenty. And yes, there were times when Democrats had to go it alone.  But time and again, Democrats and Republicans came together. Came together to defend a stronger and safer Europe. Came together to pass a once-in-a-generation infrastructure law--building bridges to connect our Nation and people. Came together to pass one of the most significant laws ever--helping veterans exposed to toxic burn pits.  In fact--I signed over 300 bipartisan laws since becoming President--from reauthorizing the Violence Against Women Act to the Electoral Count Reform Act to the Respect For Marriage Act--that protects the right to marry the person you love.  To my Republican friends--if we could work together in the last Congress--there is no reason we can't work together in this new Congress. The people sent us a clear message.  Fighting for the sake of fighting--power for the sake of power--conflict for the sake of conflict--gets us nowhere.  And that's always been my vision for our country. To restore the soul of the Nation. To rebuild the backbone of America--the middle class. To unite the country. We've been sent here to--finish the job!  For decades the middle class was hollowed out. Too many good-paying[[Page S258]]manufacturing jobs moved overseas. Factories at home closed down. Once-thriving cities and towns became shadows of what they used to be. And along the way something else was lost. Pride. That sense of self-worth.  I ran for President to fundamentally change things--to make sure the economy works for everyone so we can all feel pride in what we do. To build an economy from the bottom up and the middle\" metadata={}\n",
      "---\n",
      "page_content=\"so we can all feel pride in what we do. To build an economy from the bottom up and the middle out--not from the top down. Because when the middle class does well--the poor have a ladder up--and the wealthy still do very well. We all do well.  As my Dad used to say--a job is about a lot more than a paycheck. It's about your dignity. It's about respect. It's about being able to look your kid in the eye and say ``Honey--it's going to be OK''--and mean it.  So--let's look at the results. Unemployment rate at 3.4 percent--a 50-year low. Near record low unemployment--for Black and Hispanic workers.  We've already created 800,000 good-paying manufacturing jobs--the fastest growth in 40 years. Where is it written--that America can't lead the world in manufacturing again?  For too many decades we imported products and exported jobs. Now--thanks to all we've done--we're exporting American products and creating American jobs.  Inflation has been a global problem because of the pandemic that disrupted supply chains and Putin's war that disrupted energy and food supplies. But we're better positioned than any country on Earth. We have more to do--but here at home inflation is coming down! Here at home--gas prices are down $1.50 a gallon since their peak. Food inflation is coming down. Inflation has fallen every month for the last 6 months while take home pay has gone up.  Additionally--over the last 2 years--a record 10 million Americans applied to start a new small business. Every time somebody starts a small business--it's an act of hope.  And the Vice President will continue her work to ensure more small businesses can access capital and the historic laws we enacted.  Standing here last year--I shared with you a story of--American genius and possibility. Semiconductors--the small computer chips the size of your fingertip that power everything from cellphones to automobiles and so much more. These chips were invented right here in America. America used to make nearly 40 percent of the world's chips. But in the last few decades we lost our edge and we're down to producing only 10 percent.  We all saw what happened during the pandemic when chip factories overseas shut down. Today's automobiles need up to 3,000 chips each--but American automakers couldn't make enough cars because there weren't enough chips. Car prices went up. So did everything from refrigerators to cellphones. We can never let that happen again!  That's why we came together to pass the bipartisan CHIPS and Science Act. We're making sure the supply chain for America begins in America!  We''ve already created 800,000 manufacturing jobs even without this law. With this new law--we will create hundreds of thousands of new jobs across the country. That's going to come from companies that have announced more than $300 billion in investments in American manufacturing in the last 2 years.  Outside of Columbus, Ohio--Intel is building semiconductor factories on a thousand acres--a literal field of dreams. That'll create 10,000 jobs. 7,000 construction jobs. 3,000 jobs once the factories are finished. Jobs paying $130,000 a year--and many don't require a college degree. Jobs where people don't have to leave home in search of opportunity.  And it's just getting started. Think about the new homes--new small businesses--and so much more that will come to life. Talk to mayors and Governors--Democrats and Republicans--and they'll tell you what this means to their communities. We're seeing these fields of dreams--transform the heartland!  But to maintain the strongest economy in the world--we also need the best infrastructure in the world. We used to be #1 in the world in infrastructure--then we fell to 13th.  Now we're coming back because we came together to pass the Bipartisan Infrastructure Law--the largest investment in infrastructure since President Eisenhower's Interstate Highway system.  Already--we've funded over 20,000 projects--including at major airports from Boston to Atlanta\" metadata={}\n",
      "---\n",
      "page_content=\"Already--we've funded over 20,000 projects--including at major airports from Boston to Atlanta to Portland. These projects will put hundreds of thousands of people to work rebuilding our highways--bridges--railroads--tunnels--ports and airports--clean water--and high-speed internet--across America. Urban. Suburban. Rural. Tribal.  And we're just getting started. I sincerely thank my Republican friends who voted for the law. And to my Republican friends who voted against it but still ask to fund projects in their districts--don't worry. I promised to be the President for all Americans. We'll fund your projects. And--I'll see you at the ground-breaking.  This law will help further unite all of America. Major projects like the Brent Spence bridge between Kentucky and Ohio--over the Ohio River. Built 60 years ago. Badly in need of repairs. One of the Nation's most congested freight routes--carrying $2 billion worth of freight every day. Folks have been talking about fixing it for decades but we're finally going to get it done.  I went there last month with Democrats and Republicans from both States to deliver $1.6 billion for this project. While I was there I met an ironworker named Saria--who is here tonight. For 30 years she's been a proud member of Iron Workers Local 44--known as the ``cowboys of the sky''--who built the Cincinnati skyline. Saria said she can't wait to be ten stories above the Ohio River building that new bridge. That's pride. That's what we're also building--pride.  We're also replacing poisonous lead pipes that go into 10 million homes--and 400,000 schools and childcare centers--so every child in America can drink clean water!  We're making sure that every community has access to affordable high-speed Internet. No parent should have to drive to a McDonald's parking lot so their kid can do their homework online.  And when we do these projects--we're going to Buy American. Buy American has been the law of the land since 1933. But for too long past administrations have found ways to get around it. Not anymore.  Tonight--I'm also announcing new standards to require all construction materials used in Federal infrastructure projects to be made in America. American-made--lumber--glass--drywall--fiber optic cables. And on my watch--American roads--American bridges--and American highways will be made with American products.  My economic plan is about investing in places and people that have been forgotten. Amid the economic upheaval of the past four decades--too many people have been left behind--or treated like they're invisible. Maybe that's you watching at home. You remember the jobs that went away. And you wonder whether a path even exists anymore for you and your children to get ahead--without moving away. I get it. That's why we're building an economy where no one is left behind.  Jobs are coming back--pride is coming back--because of the choices we made in the last 2 years.\" metadata={}\n",
      "---\n"
     ]
    }
   ],
   "source": [
    "from langchain.docstore.document import Document\n",
    "\n",
    "for x in docs:\n",
    "    print(x)\n",
    "    print(\"---\")"
   ]
  },
  {
   "cell_type": "code",
   "execution_count": 6,
   "id": "30906ed7-348f-4b11-ac17-41a20c6e79f4",
   "metadata": {
    "tags": []
   },
   "outputs": [],
   "source": [
    "map_prompt_template = \"\"\"Write a short sentence single line summary for following text:\n",
    "\n",
    "\n",
    "{text}\n",
    "\n",
    "\n",
    "Summary:\"\"\"\n",
    "\n",
    "\n",
    "reduce_prompt_template = \"\"\"Write a summary paragraph of the following:\n",
    "\n",
    "\n",
    "{text}\n",
    "\n",
    "\n",
    "Summary:\"\"\""
   ]
  },
  {
   "cell_type": "code",
   "execution_count": 7,
   "id": "418c4eba-0d03-447e-ab9b-ca8c66fe07ce",
   "metadata": {
    "tags": []
   },
   "outputs": [
    {
     "data": {
      "text/plain": [
       "{'intermediate_steps': [' The President of the United States delivers a State of the Union address to a joint session of Congress, highlighting the progress made in the past two years and emphasizing the importance of working together to continue building a stronger and safer America.',\n",
       "  ' The text is a speech given by President Joe Biden during his State of the Union address. He highlights the achievements of his administration in terms of job creation, inflation reduction, and infrastructure development. He emphasizes the importance of American ingenuity and manufacturing, and the need for bipartisan cooperation to achieve these goals.',\n",
       "  ' The President is announcing new infrastructure projects and funding for them, including the Brent Spence bridge, which will create jobs and improve transportation. He is also emphasizing the importance of using American-made materials in these projects.'],\n",
       " 'output_text': '\\n\\nIn his State of the Union address, President Joe Biden highlights the progress made in the past two years and emphasizes the importance of working together to continue building a stronger and safer America. He emphasizes the importance of American ingenuity and manufacturing, and the need for bipartisan cooperation to achieve these goals. He also announces new infrastructure projects and funding for them, including the Brent Spence bridge, which will create jobs and improve transportation.'}"
      ]
     },
     "execution_count": 7,
     "metadata": {},
     "output_type": "execute_result"
    }
   ],
   "source": [
    "from langchain.chains.summarize import load_summarize_chain\n",
    "\n",
    "MAP_PROMPT = PromptTemplate(template=map_prompt_template, input_variables=[\"text\"])\n",
    "REDUCE_PROMPT = PromptTemplate(template=reduce_prompt_template, input_variables=[\"text\"])\n",
    "\n",
    "\n",
    "\n",
    "chain = load_summarize_chain(llm2, chain_type=\"map_reduce\", return_intermediate_steps=True, map_prompt=MAP_PROMPT,  combine_prompt=REDUCE_PROMPT)\n",
    "#chain.run(docs)\n",
    "chain({\"input_documents\": docs}, return_only_outputs=True)"
   ]
  },
  {
   "cell_type": "code",
   "execution_count": null,
   "id": "e9754397-9e89-4831-a018-aedb4aac439f",
   "metadata": {},
   "outputs": [],
   "source": []
  },
  {
   "cell_type": "code",
   "execution_count": null,
   "id": "763b06c8-9222-4a75-a817-bcc9148e60e2",
   "metadata": {},
   "outputs": [],
   "source": []
  },
  {
   "cell_type": "code",
   "execution_count": null,
   "id": "a8d4f900-8c00-4fad-af5c-553254ac71a7",
   "metadata": {},
   "outputs": [],
   "source": []
  }
 ],
 "metadata": {
  "kernelspec": {
   "display_name": "conda_python3",
   "language": "python",
   "name": "conda_python3"
  },
  "language_info": {
   "codemirror_mode": {
    "name": "ipython",
    "version": 3
   },
   "file_extension": ".py",
   "mimetype": "text/x-python",
   "name": "python",
   "nbconvert_exporter": "python",
   "pygments_lexer": "ipython3",
   "version": "3.10.10"
  }
 },
 "nbformat": 4,
 "nbformat_minor": 5
}
