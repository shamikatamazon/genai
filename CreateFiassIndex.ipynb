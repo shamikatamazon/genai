{
 "cells": [
  {
   "cell_type": "code",
   "execution_count": null,
   "id": "6479021e-db06-43b1-bee4-86d41934dd4e",
   "metadata": {
    "tags": []
   },
   "outputs": [],
   "source": [
    "!pip install faiss-cpu\n",
    "!pip install sentence_transformers"
   ]
  },
  {
   "cell_type": "code",
   "execution_count": null,
   "id": "4c6cb9fb-864a-4406-bdda-8d7a98fb042d",
   "metadata": {
    "tags": []
   },
   "outputs": [],
   "source": [
    "FAISS_INDEX_DIR = \"faiss_index\""
   ]
  },
  {
   "cell_type": "code",
   "execution_count": null,
   "id": "9f24e9e5-9a5d-4a53-97a3-7bc79e354e26",
   "metadata": {
    "tags": []
   },
   "outputs": [],
   "source": [
    "# Document Loader\n",
    "from langchain.document_loaders import TextLoader\n",
    "\n",
    "loader = TextLoader('alliphonedocs.txt')\n",
    "documents = loader.load()"
   ]
  },
  {
   "cell_type": "code",
   "execution_count": null,
   "id": "c47923bd-9244-4196-90fa-ac4befb9809d",
   "metadata": {
    "tags": []
   },
   "outputs": [],
   "source": [
    "from langchain.text_splitter import CharacterTextSplitter\n",
    "text_splitter = CharacterTextSplitter(chunk_size=1000, chunk_overlap=30)\n",
    "docs = text_splitter.split_documents(documents)"
   ]
  },
  {
   "cell_type": "code",
   "execution_count": null,
   "id": "e30bb1c5-d179-4267-af64-5cc62e43d6bf",
   "metadata": {
    "tags": []
   },
   "outputs": [],
   "source": [
    "# Embeddings\n",
    "from langchain.embeddings import HuggingFaceEmbeddings\n",
    "\n",
    "embeddings = HuggingFaceEmbeddings()"
   ]
  },
  {
   "cell_type": "code",
   "execution_count": 7,
   "id": "bb3684a2-061a-4e79-aefa-d5a408ae9cda",
   "metadata": {
    "tags": []
   },
   "outputs": [],
   "source": [
    "from langchain.vectorstores import FAISS\n",
    "from langchain.vectorstores import OpenSearchVectorSearch\n",
    "\n",
    "db = FAISS.from_documents(docs, embeddings)\n",
    "db_path = FAISS_INDEX_DIR\n",
    "db.save_local(db_path)"
   ]
  },
  {
   "cell_type": "code",
   "execution_count": null,
   "id": "3bcfe076-9b29-4714-80d6-fbb444dd628f",
   "metadata": {},
   "outputs": [],
   "source": []
  }
 ],
 "metadata": {
  "kernelspec": {
   "display_name": "conda_python3",
   "language": "python",
   "name": "conda_python3"
  },
  "language_info": {
   "codemirror_mode": {
    "name": "ipython",
    "version": 3
   },
   "file_extension": ".py",
   "mimetype": "text/x-python",
   "name": "python",
   "nbconvert_exporter": "python",
   "pygments_lexer": "ipython3",
   "version": "3.10.10"
  }
 },
 "nbformat": 4,
 "nbformat_minor": 5
}
