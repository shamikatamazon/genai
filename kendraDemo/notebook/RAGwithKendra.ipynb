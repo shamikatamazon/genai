{
 "cells": [
  {
   "cell_type": "code",
   "execution_count": null,
   "id": "3b4d2e89-f467-4508-b369-87a7b69c74b8",
   "metadata": {
    "tags": []
   },
   "outputs": [],
   "source": [
    "!pip install langchain boto3\n",
    "!pip install transformers\n",
    "!pip install sentence_transformers"
   ]
  },
  {
   "cell_type": "code",
   "execution_count": null,
   "id": "d9f10a4a-278a-44ee-972a-47ae89c76d78",
   "metadata": {
    "tags": []
   },
   "outputs": [],
   "source": [
    "pip install langchain --upgrade"
   ]
  },
  {
   "cell_type": "code",
   "execution_count": null,
   "id": "d455148e-a6b2-476b-971b-43c4b3a1b146",
   "metadata": {
    "tags": []
   },
   "outputs": [],
   "source": [
    "pip install boto3 --upgrade"
   ]
  },
  {
   "cell_type": "code",
   "execution_count": 2,
   "id": "28ad3108-27f1-4011-b48d-fd31b56f2ec2",
   "metadata": {
    "tags": []
   },
   "outputs": [],
   "source": [
    "import boto3\n",
    "from langchain.retrievers import AmazonKendraRetriever\n",
    "from typing import List\n",
    "from typing import Dict\n",
    "from langchain.chains import RetrievalQA\n",
    "from langchain.prompts import PromptTemplate\n",
    "from langchain import SagemakerEndpoint\n",
    "from langchain.llms.sagemaker_endpoint import LLMContentHandler\n",
    "from langchain.chains.question_answering import load_qa_chain\n",
    "import json\n",
    "\n",
    "from langchain.docstore.document import Document\n"
   ]
  },
  {
   "cell_type": "code",
   "execution_count": 3,
   "id": "eea6a68e-f741-4f68-ade2-febc3af6910c",
   "metadata": {
    "tags": []
   },
   "outputs": [],
   "source": [
    "kendraIndexId = \"063e46f7-1953-4503-a46c-72aa1ddf826f\"\n",
    "\n",
    "kendra_retriever = AmazonKendraRetriever(\n",
    "    index_id= kendraIndexId\n",
    ")\n"
   ]
  },
  {
   "cell_type": "code",
   "execution_count": 4,
   "id": "03c6ddfe-d2ce-48bf-bde1-22bcbfc848d9",
   "metadata": {
    "tags": []
   },
   "outputs": [],
   "source": [
    "class ContentHandler(LLMContentHandler):\n",
    "    content_type = \"application/json\"\n",
    "    accepts = \"application/json\"\n",
    "\n",
    "    def transform_input(self, inputs: list[str], model_kwargs: Dict) -> bytes:\n",
    "        input_str = json.dumps({\"inputs\": inputs, **model_kwargs})\n",
    "        return input_str.encode(\"utf-8\")\n",
    "\n",
    "    def transform_output(self, output: bytes) -> List[List[float]]:\n",
    "        response_json = json.loads(output.read().decode(\"utf-8\"))\n",
    "#        return response_json[\"vectors\"]\n",
    "        return response_json[0][\"generated_text\"]\n",
    "\n",
    "\n",
    "\n",
    "content_handler = ContentHandler()\n"
   ]
  },
  {
   "cell_type": "code",
   "execution_count": 5,
   "id": "805b8998-0977-48a2-aa9d-96b07ffe0186",
   "metadata": {
    "tags": []
   },
   "outputs": [],
   "source": [
    "llm2 = SagemakerEndpoint(\n",
    "endpoint_name=\"hf-llm-falcon-40b-instruct-bf16-2023-06-23-19-34-33-102\",\n",
    "#endpoint_name=\"hf-llm-falcon-7b-bf16-2023-06-24-20-08-14-262\",\n",
    "#endpoint_name=\"hf-llm-falcon-40b-bf16-2023-06-24-20-20-44-608\",\n",
    "model_kwargs={\n",
    "     \"parameters\" : {\"do_sample\": False,\n",
    "    \"top_p\": 0.9,\n",
    "    \"temperature\": 0.1,\n",
    "    \"max_new_tokens\": 400\n",
    "              }},\n",
    "region_name=\"us-east-1\",\n",
    "content_handler=content_handler\n",
    ")\n"
   ]
  },
  {
   "cell_type": "code",
   "execution_count": 6,
   "id": "508147a3-3883-4aa3-9a47-3886d6aec71a",
   "metadata": {
    "tags": []
   },
   "outputs": [],
   "source": [
    "llm_query= \"how do I fix a broken screen\"\n",
    "\n",
    "prompt_template = \"\"\"\n",
    "  {context}\n",
    "  >>QUESTION<<: {question}\n",
    "  >>ANSWER<<:\"\"\"\n",
    "  \n",
    "PROMPT = PromptTemplate(\n",
    "      template=prompt_template, input_variables=[\"context\", \"question\"]\n",
    "  )\n",
    "  \n",
    "chain = load_qa_chain(llm=llm2, prompt=PROMPT)\n",
    "\n",
    "  "
   ]
  },
  {
   "cell_type": "code",
   "execution_count": 7,
   "id": "95d58eb0-4479-4e36-975b-8a245666d557",
   "metadata": {
    "tags": []
   },
   "outputs": [
    {
     "name": "stdout",
     "output_type": "stream",
     "text": [
      "[Document(page_content=\"Document Title: HT212787 \\nDocument Excerpt: \\nKeep holding the button (or buttons) until you see the recovery mode screen: 5. Locate your iPad on your computer. When you see the option to Restore or Update, choose Update. Your computer will try to reinstall the software without erasing your data. Wait while your computer downloads the software for your iPad. If the download takes more than 15 minutes and your iPad exits the recovery mode screen, let the download finish, then repeat step 3. 6. After the Update or Restore completes, set up your iPad. ## Get more help * Learn what to do if you see an error when you update or restore your iPad. * If you can’t update or restore your iPad with recovery mode, you can't use recovery mode because of broken buttons, or your iPad is stuck in Activation Lock, contact Apple Support.\\n\", metadata={'source': 'https://s3.us-east-1.amazonaws.com/kendradatasourceforfsdemo/HT212787.txt', 'title': 'HT212787', 'excerpt': \"Keep holding the button (or buttons) until you see the recovery mode screen: 5. Locate your iPad on your computer. When you see the option to Restore or Update, choose Update. Your computer will try to reinstall the software without erasing your data. Wait while your computer downloads the software for your iPad. If the download takes more than 15 minutes and your iPad exits the recovery mode screen, let the download finish, then repeat step 3. 6. After the Update or Restore completes, set up your iPad. ## Get more help * Learn what to do if you see an error when you update or restore your iPad. * If you can’t update or restore your iPad with recovery mode, you can't use recovery mode because of broken buttons, or your iPad is stuck in Activation Lock, contact Apple Support.\"}), Document(page_content='Document Title: HT208487 \\nDocument Excerpt: \\nCaption occurs too close to the end of the project A caption can’t extend beyond the end of a project. To fix this error, shorten the caption. ### Adjacent caption error This occurs when a caption is too close to an adjacent caption. To fix this error, in the timeline, move the caption with this error message away from the adjacent caption. This error occurs when you’re using Paint-On and Roll-Up captions. ### Formatting error If you’ve changed the formatting of text in a caption, it can add space that might cut off the text at the end of the caption. If you want to keep the formatting, you’ll have to insert a line break, or move the truncated text to an existing or new caption. ### Invalid character CEA-608 supports a limited number of languages and character sets. error, remove the invalid character. ### Too many lines of text CEA-608 characters are positioned on a grid of 15 lines and 32 columns. If you type more text than will fit on a line, you’ll encounter this error. To fix this error, create a new caption for the extra lines of text.\\n', metadata={'source': 'https://s3.us-east-1.amazonaws.com/kendradatasourceforfsdemo/HT208487.txt', 'title': 'HT208487', 'excerpt': 'Caption occurs too close to the end of the project A caption can’t extend beyond the end of a project. To fix this error, shorten the caption. ### Adjacent caption error This occurs when a caption is too close to an adjacent caption. To fix this error, in the timeline, move the caption with this error message away from the adjacent caption. This error occurs when you’re using Paint-On and Roll-Up captions. ### Formatting error If you’ve changed the formatting of text in a caption, it can add space that might cut off the text at the end of the caption. If you want to keep the formatting, you’ll have to insert a line break, or move the truncated text to an existing or new caption. ### Invalid character CEA-608 supports a limited number of languages and character sets. error, remove the invalid character. ### Too many lines of text CEA-608 characters are positioned on a grid of 15 lines and 32 columns. If you type more text than will fit on a line, you’ll encounter this error. To fix this error, create a new caption for the extra lines of text.'}), Document(page_content=\"Document Title: HT201263 \\nDocument Excerpt: \\n* iPhone 7, iPhone 7 Plus, and iPod touch (7th generation): Press and hold the top (or side) and volume down buttons at the same time. Keep holding them until you see the recovery mode screen. * iPhone 6s or earlier, including iPhone SE (1st generation), and iPod touch (6th generation) or earlier: Press and hold both the Home and the top (or side) buttons at the same time. 4. Locate your device on your computer. When you see the option to Restore or Update, choose Update. Your computer will try to reinstall the software without erasing your data. Wait while your computer downloads the software for your device. If the download takes more than 15 minutes and your device exits the recovery mode screen, let the download finish, then repeat step 3. 5. After the Update or Restore completes, set up your device. ## Get more help * If you see an error when you update or restore your iPhone or iPod, learn what to do. * If you can’t update or restore your device with recovery mode, you can't use recovery mode because of broken buttons, or your device is stuck in Activation Lock, contact Apple Support.\\n\", metadata={'source': 'https://s3.us-east-1.amazonaws.com/kendradatasourceforfsdemo/HT201263.txt', 'title': 'HT201263', 'excerpt': \"* iPhone 7, iPhone 7 Plus, and iPod touch (7th generation): Press and hold the top (or side) and volume down buttons at the same time. Keep holding them until you see the recovery mode screen. * iPhone 6s or earlier, including iPhone SE (1st generation), and iPod touch (6th generation) or earlier: Press and hold both the Home and the top (or side) buttons at the same time. 4. Locate your device on your computer. When you see the option to Restore or Update, choose Update. Your computer will try to reinstall the software without erasing your data. Wait while your computer downloads the software for your device. If the download takes more than 15 minutes and your device exits the recovery mode screen, let the download finish, then repeat step 3. 5. After the Update or Restore completes, set up your device. ## Get more help * If you see an error when you update or restore your iPhone or iPod, learn what to do. * If you can’t update or restore your device with recovery mode, you can't use recovery mode because of broken buttons, or your device is stuck in Activation Lock, contact Apple Support.\"})]\n"
     ]
    }
   ],
   "source": [
    "docs = kendra_retriever.get_relevant_documents(llm_query)\n",
    "print(docs)"
   ]
  },
  {
   "cell_type": "code",
   "execution_count": 8,
   "id": "a5d8792a-9a62-4d76-bc65-7e9fd4e9f917",
   "metadata": {
    "tags": []
   },
   "outputs": [
    {
     "name": "stdout",
     "output_type": "stream",
     "text": [
      "{'input_documents': [Document(page_content=\"Document Title: HT212787 \\nDocument Excerpt: \\nKeep holding the button (or buttons) until you see the recovery mode screen: 5. Locate your iPad on your computer. When you see the option to Restore or Update, choose Update. Your computer will try to reinstall the software without erasing your data. Wait while your computer downloads the software for your iPad. If the download takes more than 15 minutes and your iPad exits the recovery mode screen, let the download finish, then repeat step 3. 6. After the Update or Restore completes, set up your iPad. ## Get more help * Learn what to do if you see an error when you update or restore your iPad. * If you can’t update or restore your iPad with recovery mode, you can't use recovery mode because of broken buttons, or your iPad is stuck in Activation Lock, contact Apple Support.\\n\", metadata={'source': 'https://s3.us-east-1.amazonaws.com/kendradatasourceforfsdemo/HT212787.txt', 'title': 'HT212787', 'excerpt': \"Keep holding the button (or buttons) until you see the recovery mode screen: 5. Locate your iPad on your computer. When you see the option to Restore or Update, choose Update. Your computer will try to reinstall the software without erasing your data. Wait while your computer downloads the software for your iPad. If the download takes more than 15 minutes and your iPad exits the recovery mode screen, let the download finish, then repeat step 3. 6. After the Update or Restore completes, set up your iPad. ## Get more help * Learn what to do if you see an error when you update or restore your iPad. * If you can’t update or restore your iPad with recovery mode, you can't use recovery mode because of broken buttons, or your iPad is stuck in Activation Lock, contact Apple Support.\"}), Document(page_content='Document Title: HT208487 \\nDocument Excerpt: \\nCaption occurs too close to the end of the project A caption can’t extend beyond the end of a project. To fix this error, shorten the caption. ### Adjacent caption error This occurs when a caption is too close to an adjacent caption. To fix this error, in the timeline, move the caption with this error message away from the adjacent caption. This error occurs when you’re using Paint-On and Roll-Up captions. ### Formatting error If you’ve changed the formatting of text in a caption, it can add space that might cut off the text at the end of the caption. If you want to keep the formatting, you’ll have to insert a line break, or move the truncated text to an existing or new caption. ### Invalid character CEA-608 supports a limited number of languages and character sets. error, remove the invalid character. ### Too many lines of text CEA-608 characters are positioned on a grid of 15 lines and 32 columns. If you type more text than will fit on a line, you’ll encounter this error. To fix this error, create a new caption for the extra lines of text.\\n', metadata={'source': 'https://s3.us-east-1.amazonaws.com/kendradatasourceforfsdemo/HT208487.txt', 'title': 'HT208487', 'excerpt': 'Caption occurs too close to the end of the project A caption can’t extend beyond the end of a project. To fix this error, shorten the caption. ### Adjacent caption error This occurs when a caption is too close to an adjacent caption. To fix this error, in the timeline, move the caption with this error message away from the adjacent caption. This error occurs when you’re using Paint-On and Roll-Up captions. ### Formatting error If you’ve changed the formatting of text in a caption, it can add space that might cut off the text at the end of the caption. If you want to keep the formatting, you’ll have to insert a line break, or move the truncated text to an existing or new caption. ### Invalid character CEA-608 supports a limited number of languages and character sets. error, remove the invalid character. ### Too many lines of text CEA-608 characters are positioned on a grid of 15 lines and 32 columns. If you type more text than will fit on a line, you’ll encounter this error. To fix this error, create a new caption for the extra lines of text.'}), Document(page_content=\"Document Title: HT201263 \\nDocument Excerpt: \\n* iPhone 7, iPhone 7 Plus, and iPod touch (7th generation): Press and hold the top (or side) and volume down buttons at the same time. Keep holding them until you see the recovery mode screen. * iPhone 6s or earlier, including iPhone SE (1st generation), and iPod touch (6th generation) or earlier: Press and hold both the Home and the top (or side) buttons at the same time. 4. Locate your device on your computer. When you see the option to Restore or Update, choose Update. Your computer will try to reinstall the software without erasing your data. Wait while your computer downloads the software for your device. If the download takes more than 15 minutes and your device exits the recovery mode screen, let the download finish, then repeat step 3. 5. After the Update or Restore completes, set up your device. ## Get more help * If you see an error when you update or restore your iPhone or iPod, learn what to do. * If you can’t update or restore your device with recovery mode, you can't use recovery mode because of broken buttons, or your device is stuck in Activation Lock, contact Apple Support.\\n\", metadata={'source': 'https://s3.us-east-1.amazonaws.com/kendradatasourceforfsdemo/HT201263.txt', 'title': 'HT201263', 'excerpt': \"* iPhone 7, iPhone 7 Plus, and iPod touch (7th generation): Press and hold the top (or side) and volume down buttons at the same time. Keep holding them until you see the recovery mode screen. * iPhone 6s or earlier, including iPhone SE (1st generation), and iPod touch (6th generation) or earlier: Press and hold both the Home and the top (or side) buttons at the same time. 4. Locate your device on your computer. When you see the option to Restore or Update, choose Update. Your computer will try to reinstall the software without erasing your data. Wait while your computer downloads the software for your device. If the download takes more than 15 minutes and your device exits the recovery mode screen, let the download finish, then repeat step 3. 5. After the Update or Restore completes, set up your device. ## Get more help * If you see an error when you update or restore your iPhone or iPod, learn what to do. * If you can’t update or restore your device with recovery mode, you can't use recovery mode because of broken buttons, or your device is stuck in Activation Lock, contact Apple Support.\"})], 'question': 'how do I fix a broken screen', 'output_text': ' how do I fix a broken screen\\n\\nTo fix a broken screen on an iPhone, you can take it to an Apple Store or an authorized repair center. They will be able to diagnose the issue and provide a solution. If the screen is cracked, you may need to replace it. If the screen is not responding to touch, there may be an issue with the digitizer or the LCD. In either case, it is best to have a professional look at it.'}\n"
     ]
    }
   ],
   "source": [
    "output = chain({\"input_documents\":docs, \"question\": llm_query}, return_only_outputs=False)\n",
    "print(output)\n"
   ]
  },
  {
   "cell_type": "code",
   "execution_count": null,
   "id": "d65fa0b1-0b1e-40da-89e1-1ffd66097f60",
   "metadata": {},
   "outputs": [],
   "source": []
  }
 ],
 "metadata": {
  "kernelspec": {
   "display_name": "conda_python3",
   "language": "python",
   "name": "conda_python3"
  },
  "language_info": {
   "codemirror_mode": {
    "name": "ipython",
    "version": 3
   },
   "file_extension": ".py",
   "mimetype": "text/x-python",
   "name": "python",
   "nbconvert_exporter": "python",
   "pygments_lexer": "ipython3",
   "version": "3.10.10"
  }
 },
 "nbformat": 4,
 "nbformat_minor": 5
}
