{
 "cells": [
  {
   "cell_type": "code",
   "execution_count": null,
   "id": "015e651b-f416-4251-9995-390b70d4e3ad",
   "metadata": {
    "tags": []
   },
   "outputs": [],
   "source": [
    "pip install sentence_transformers"
   ]
  },
  {
   "cell_type": "markdown",
   "id": "f6f6db00-9040-465f-b9b7-131694d33696",
   "metadata": {},
   "source": [
    "The embeddings are created and stored locally for retrival later. This allows us to generate the embeddings once and re-use it without having to regenerate it again."
   ]
  },
  {
   "cell_type": "markdown",
   "id": "cae3f5e6-0156-4e2e-b14b-3c3c79963db4",
   "metadata": {},
   "source": [
    "Now that the embeddings have been generated and stored locally, we can run inferences on the model using RAG. In this process, we first will perform a similarity search on FIASS to generate context for the query, and then submit the query and the generated machine learning model to answer the query. "
   ]
  },
  {
   "cell_type": "code",
   "execution_count": 1,
   "id": "08a43e8a-ad81-417e-83af-1e52ffb01516",
   "metadata": {},
   "outputs": [],
   "source": [
    "FAISS_INDEX_DIR = \"faiss_index\""
   ]
  },
  {
   "cell_type": "code",
   "execution_count": 2,
   "id": "f160e4d0-5c77-46d2-a9ec-52d38e6d2f2d",
   "metadata": {
    "tags": []
   },
   "outputs": [],
   "source": [
    "from langchain.vectorstores import FAISS\n",
    "from langchain.embeddings import HuggingFaceEmbeddings\n",
    "\n",
    "embeddings = HuggingFaceEmbeddings()\n",
    "\n",
    "new_db = FAISS.load_local(FAISS_INDEX_DIR, embeddings)"
   ]
  },
  {
   "cell_type": "code",
   "execution_count": 9,
   "id": "12da282d-cc0d-458b-9e4d-487179b19b6d",
   "metadata": {
    "tags": []
   },
   "outputs": [],
   "source": [
    "#query = \"what is the concept for tokens\"\n",
    "query = \"\"\"my airpods are not connecting to the iphone, how do I fix that \"\"\"\n"
   ]
  },
  {
   "cell_type": "code",
   "execution_count": 10,
   "id": "3816950f-0ef9-4fca-af85-f09bf76eb960",
   "metadata": {
    "tags": []
   },
   "outputs": [],
   "source": [
    "from typing import List\n",
    "from typing import Dict\n",
    "from langchain.chains import RetrievalQA\n",
    "from langchain.prompts import PromptTemplate\n",
    "from langchain import SagemakerEndpoint\n",
    "from langchain.llms.sagemaker_endpoint import LLMContentHandler\n",
    "from langchain.chains.question_answering import load_qa_chain\n",
    "import json\n",
    "\n",
    "from langchain.docstore.document import Document\n",
    "\n",
    "class ContentHandler(LLMContentHandler):\n",
    "    content_type = \"application/json\"\n",
    "    accepts = \"application/json\"\n",
    "\n",
    "    def transform_input(self, inputs: list[str], model_kwargs: Dict) -> bytes:\n",
    "        input_str = json.dumps({\"inputs\": inputs, **model_kwargs})\n",
    "        return input_str.encode(\"utf-8\")\n",
    "\n",
    "    def transform_output(self, output: bytes) -> List[List[float]]:\n",
    "        response_json = json.loads(output.read().decode(\"utf-8\"))\n",
    "#        return response_json[\"vectors\"]\n",
    "        return response_json[0][\"generated_text\"]\n",
    "\n",
    "\n",
    "content_handler = ContentHandler()\n",
    "\n"
   ]
  },
  {
   "cell_type": "code",
   "execution_count": 11,
   "id": "f757d74b-ac75-46bb-9644-7bde4b371b29",
   "metadata": {
    "tags": []
   },
   "outputs": [],
   "source": [
    "llm2 = SagemakerEndpoint(\n",
    "    endpoint_name=\"hf-llm-falcon-40b-instruct-bf16-2023-06-23-19-34-33-102\",\n",
    "    #endpoint_name=\"hf-llm-falcon-7b-bf16-2023-06-24-20-08-14-262\",\n",
    "    #endpoint_name=\"hf-llm-falcon-40b-bf16-2023-06-24-20-20-44-608\",\n",
    "    model_kwargs={\n",
    "         \"parameters\" : {\"do_sample\": False,\n",
    "        \"top_p\": 0.9,\n",
    "        \"temperature\": 0.1,\n",
    "        \"max_new_tokens\": 400\n",
    "                  }},\n",
    "    region_name=\"us-east-1\",\n",
    "    content_handler=content_handler\n",
    ")\n",
    "\n"
   ]
  },
  {
   "cell_type": "code",
   "execution_count": 12,
   "id": "301b278a-4e7a-460e-990e-99ced511bcfd",
   "metadata": {
    "tags": []
   },
   "outputs": [],
   "source": [
    "#docs = [Document(page_content=example_doc,)]\n",
    "\n",
    "\n",
    "#llm_query = \"\"\"Using the text provided above answer the question \"\"\" + query\n",
    "llm_query= query\n",
    "\n",
    "prompt_template = \"\"\"\n",
    "{context}\n",
    ">>QUESTION<<: {question}\n",
    ">>ANSWER<<:\"\"\"\n",
    "\n",
    "PROMPT = PromptTemplate(\n",
    "    template=prompt_template, input_variables=[\"context\", \"question\"]\n",
    ")\n",
    "\n"
   ]
  },
  {
   "cell_type": "code",
   "execution_count": 13,
   "id": "56a1fb79-2030-4c88-8631-d9b534cb79df",
   "metadata": {
    "tags": []
   },
   "outputs": [
    {
     "name": "stdout",
     "output_type": "stream",
     "text": [
      "{'input_documents': [Document(page_content=\"If you need help connecting to your AirPods, learn what to do.\\n\\n## If you can't connect to your iPhone, iPad, or iPod touch\\n\\n  1. Make sure that your iPhone or iPod touch has the latest version of iOS or that your iPad has the latest version of iPadOS.\\n  2. Put both AirPods in the charging case and make sure that both AirPods are charging.\\n  3. To make sure that Bluetooth is on, go to Settings > Bluetooth.\\n  4. If your AirPods are connected, make sure that they're selected as your audio device. If your AirPods appear in the list of devices but they don't connect, go to the next step.\\n  5. Close the lid, wait 15 seconds, then open the lid. Press and hold the setup button on the back of the charging case for up to 10 seconds. The status light on the front of the charging case should flash white, which means that your AirPods are ready to connect.\", metadata={'source': 'alliphonedocs.txt'}), Document(page_content=\"6. Hold the charging case, with your AirPods inside and the lid open, next to your iPhone, iPad, or iPod touch.\\n  7. Follow the steps on the screen of your iPhone, iPad, or iPod touch.\\n  8. Test your AirPods. If you still can't connect, reset your AirPods.\\n\\n## If you can't connect to your Mac\", metadata={'source': 'alliphonedocs.txt'}), Document(page_content=\"1. Put your AirPods in their charging case, and close the lid.\\n  2. Wait 30 seconds.\\n  3. Open the lid of your charging case, and put your AirPods in your ears.\\n  4. Go to Settings > Bluetooth. Or go to Settings > [your AirPods].\\n    * If your AirPods appear there as connected, tap the More Info button  next to your AirPods, tap Forget This Device, then tap again to confirm.\\n    * If your AirPods don't appear there, continue to the next step. \\n  5. Put your AirPods in their charging case, and keep the lid open. \\n  6. Press and hold the setup button on the back of the case for about 15 seconds, until the status light on the front of the case flashes amber, then white.*  \\n\\n  7. Reconnect your AirPods: With your AirPods in their charging case and the lid open, place your AirPods close to your iPhone or iPad. Follow the steps on your device's screen.\", metadata={'source': 'alliphonedocs.txt'}), Document(page_content='1. Go to the Home Screen.\\n  2. With your AirPods in the charging case, open the charging case, and hold it next to your iPhone. A setup animation appears on your iPhone.\\n  3. Tap Connect. \\n  4. If you have AirPods Pro (1st or 2nd generation) or AirPods (3rd generation), read the next three screens.\\n  5. If you have AirPods Pro (1st or 2nd generation) or AirPods (2nd or 3rd generation) and you set up \"Hey Siri\" on your iPhone already, then \"Hey Siri\" is ready to use with your AirPods. If you haven\\'t set up \"Hey Siri\" already and you have AirPods Pro (1st or 2nd generation) or AirPods (2nd or 3rd generation), you\\'ll be guided through the setup.\\n  6. Tap Done.\\n  7. If you\\'re signed in to iCloud, your AirPods are set up automatically with any of your supported devices that are signed in to iCloud with the same Apple ID.\\n\\nIf you\\'re having issues connecting or setting up your AirPods, learn what to\\ndo.', metadata={'source': 'alliphonedocs.txt'})], 'question': 'my airpods are not connecting to the iphone, how do I fix that ', 'output_text': ' my airpods are not connecting to the iphone, how do I fix that \\n\\nThere could be several reasons why your AirPods are not connecting to your iPhone. Here are some steps you can try to fix the issue:\\n\\n1. Make sure that your iPhone and AirPods are both charged.\\n2. Check that Bluetooth is turned on on your iPhone.\\n3. Make sure that your AirPods are paired with your iPhone.\\n4. Try resetting your AirPods by holding down the setup button on the back of the charging case until the status light flashes amber, then white.\\n5. If none of the above steps work, try resetting your iPhone by holding down the power and volume down buttons until the Apple logo appears.\\n\\nIf none of these steps work, you may need to contact Apple support for further assistance.'}\n"
     ]
    }
   ],
   "source": [
    "#output = llm2(prompt)\n",
    "#print (output)\n",
    "\n",
    "chain = load_qa_chain(llm=llm2, prompt=PROMPT)\n",
    "\n",
    "#uncomment the below line to see how the model answers the question when not providing context \n",
    "#docs = [Document(page_content=\" \",    )]\n",
    "docs = new_db.similarity_search(llm_query)\n",
    "\n",
    "output = chain({\"input_documents\":docs, \"question\": llm_query}, return_only_outputs=False)\n",
    "print(output)\n"
   ]
  },
  {
   "cell_type": "code",
   "execution_count": null,
   "id": "f3f7954a-8bc7-498e-98d3-1d238308e6e4",
   "metadata": {},
   "outputs": [],
   "source": []
  }
 ],
 "metadata": {
  "kernelspec": {
   "display_name": "conda_python3",
   "language": "python",
   "name": "conda_python3"
  },
  "language_info": {
   "codemirror_mode": {
    "name": "ipython",
    "version": 3
   },
   "file_extension": ".py",
   "mimetype": "text/x-python",
   "name": "python",
   "nbconvert_exporter": "python",
   "pygments_lexer": "ipython3",
   "version": "3.10.10"
  }
 },
 "nbformat": 4,
 "nbformat_minor": 5
}
